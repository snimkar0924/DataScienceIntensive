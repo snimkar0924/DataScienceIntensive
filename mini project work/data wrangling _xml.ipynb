{
 "cells": [
  {
   "cell_type": "code",
   "execution_count": 21,
   "metadata": {
    "collapsed": true
   },
   "outputs": [],
   "source": [
    "import numpy as np\n",
    "import pandas as pd\n",
    "from xml.etree import ElementTree as ET"
   ]
  },
  {
   "cell_type": "markdown",
   "metadata": {},
   "source": [
    "### Warm-up exercise"
   ]
  },
  {
   "cell_type": "code",
   "execution_count": 226,
   "metadata": {
    "collapsed": true
   },
   "outputs": [],
   "source": [
    "membership = ET.parse('./data/data_wrangling_xml/data/membership.xml')"
   ]
  },
  {
   "cell_type": "code",
   "execution_count": 23,
   "metadata": {
    "collapsed": false
   },
   "outputs": [],
   "source": [
    "users = membership.find('users')"
   ]
  },
  {
   "cell_type": "code",
   "execution_count": 24,
   "metadata": {
    "collapsed": false
   },
   "outputs": [
    {
     "name": "stdout",
     "output_type": "stream",
     "text": [
      "john\n",
      "charles\n",
      "peter\n"
     ]
    }
   ],
   "source": [
    "for user in membership.findall('users/user'):\n",
    "    print(user.attrib['name'])"
   ]
  },
  {
   "cell_type": "code",
   "execution_count": 25,
   "metadata": {
    "collapsed": false
   },
   "outputs": [
    {
     "name": "stdout",
     "output_type": "stream",
     "text": [
      "users\n",
      "administrators\n"
     ]
    }
   ],
   "source": [
    "for group in membership.findall('groups/group'):\n",
    "    print(group.attrib['name'])"
   ]
  },
  {
   "cell_type": "code",
   "execution_count": 27,
   "metadata": {
    "collapsed": false
   },
   "outputs": [
    {
     "name": "stdout",
     "output_type": "stream",
     "text": [
      "group: users\n",
      "users:\n",
      "- john\n",
      "- charles\n",
      "group: administrators\n",
      "users:\n",
      "- peter\n"
     ]
    }
   ],
   "source": [
    "for group in membership.findall('groups/group'):\n",
    "    print('group:' , group.attrib['name'])\n",
    "    print('users:')\n",
    "    for node in group.getchildren():\n",
    "        if node.tag == 'user':\n",
    "            print('-', node.attrib['name'])"
   ]
  },
  {
   "cell_type": "code",
   "execution_count": 29,
   "metadata": {
    "collapsed": false
   },
   "outputs": [
    {
     "name": "stdout",
     "output_type": "stream",
     "text": [
      "users {} \n",
      "         \n",
      "\n",
      "    \n",
      "user {'name': 'john'} None \n",
      "        \n",
      "user {'name': 'charles'} None \n",
      "        \n",
      "user {'name': 'peter'} None \n",
      "    \n"
     ]
    }
   ],
   "source": [
    "#1. iterate nodes including the starting point\n",
    "users = membership.find('users')\n",
    "for node in users.getiterator():\n",
    "    print(node.tag,node.attrib,node.text,node.tail)"
   ]
  },
  {
   "cell_type": "code",
   "execution_count": 31,
   "metadata": {
    "collapsed": false
   },
   "outputs": [
    {
     "name": "stdout",
     "output_type": "stream",
     "text": [
      "user {'name': 'john'} None \n",
      "        \n",
      "user {'name': 'charles'} None \n",
      "        \n",
      "user {'name': 'peter'} None \n",
      "    \n"
     ]
    }
   ],
   "source": [
    "#2. iterate only the children\n",
    "users = membership.find('users')\n",
    "for node in users.getchildren():\n",
    "    print(node.tag,node.attrib,node.text,node.tail)"
   ]
  },
  {
   "cell_type": "code",
   "execution_count": null,
   "metadata": {
    "collapsed": true
   },
   "outputs": [],
   "source": []
  },
  {
   "cell_type": "markdown",
   "metadata": {},
   "source": [
    "# XML exercise\n",
    "#### Using data in 'data/mondial_database.xml', the examples above, and refering to https://docs.python.org/2.7/library/xml.etree.elementtree.html, find\n",
    "\n",
    "## 1. 10 countries with the lowest infant mortality rates\n",
    "## 2. 10 cities with the largest population\n",
    "## 3. 10 ethnic groups with the largest overall populations (sum of best/latest estimates over all countries)\n",
    "## 4. name and country of a) longest river, b) largest lake and c) airport at highest elevation"
   ]
  },
  {
   "cell_type": "code",
   "execution_count": 252,
   "metadata": {
    "collapsed": false
   },
   "outputs": [],
   "source": [
    "mondial = ET.parse( './data/data_wrangling_xml/data/mondial_database.xml' )\n",
    "mondial_less = ET.parse( './data/data_wrangling_xml/data/mondial_database_less.xml' )"
   ]
  },
  {
   "cell_type": "code",
   "execution_count": 232,
   "metadata": {
    "collapsed": false
   },
   "outputs": [
    {
     "data": {
      "text/plain": [
       "xml.etree.ElementTree.ElementTree"
      ]
     },
     "execution_count": 232,
     "metadata": {},
     "output_type": "execute_result"
    }
   ],
   "source": [
    "type(mondial)"
   ]
  },
  {
   "cell_type": "code",
   "execution_count": 233,
   "metadata": {
    "collapsed": false
   },
   "outputs": [],
   "source": [
    "countries = mondial.find('country')"
   ]
  },
  {
   "cell_type": "code",
   "execution_count": 234,
   "metadata": {
    "collapsed": false
   },
   "outputs": [
    {
     "name": "stdout",
     "output_type": "stream",
     "text": [
      "- Albania\n",
      "- Tirana\n",
      "- Tirane\n",
      "- Shkodër\n",
      "- Durrës\n",
      "- Vlorë\n",
      "- Elbasan\n",
      "- Korçë\n"
     ]
    }
   ],
   "source": [
    "for c in countries:\n",
    "    for node in c.getiterator():\n",
    "        if node.tag == 'name':\n",
    "            print('-',node.text)\n",
    "##not the expected behavior...."
   ]
  },
  {
   "cell_type": "code",
   "execution_count": 235,
   "metadata": {
    "collapsed": false
   },
   "outputs": [],
   "source": [
    "df1 = pd.DataFrame(columns=('country','infant_mortality'))\n",
    "d = {'country':'','infant_mortality':''}\n",
    "cou = 0\n",
    "for c in mondial.findall('country'):\n",
    "    for n in c.getchildren():\n",
    "        if n.tag == 'name':\n",
    "            #print(cou, n.text)\n",
    "            d['country'] = n.text\n",
    "        if n.tag == 'infant_mortality':\n",
    "            #print(n.text)\n",
    "            d['infant_mortality'] = n.text\n",
    "            #print(cou, d)\n",
    "            df1.loc[cou] = d\n",
    "            cou += 1"
   ]
  },
  {
   "cell_type": "code",
   "execution_count": 236,
   "metadata": {
    "collapsed": false
   },
   "outputs": [
    {
     "data": {
      "text/html": [
       "<div>\n",
       "<table border=\"1\" class=\"dataframe\">\n",
       "  <thead>\n",
       "    <tr style=\"text-align: right;\">\n",
       "      <th></th>\n",
       "      <th>country</th>\n",
       "      <th>infant_mortality</th>\n",
       "    </tr>\n",
       "  </thead>\n",
       "  <tbody>\n",
       "    <tr>\n",
       "      <th>0</th>\n",
       "      <td>Albania</td>\n",
       "      <td>13.19</td>\n",
       "    </tr>\n",
       "    <tr>\n",
       "      <th>1</th>\n",
       "      <td>Greece</td>\n",
       "      <td>4.78</td>\n",
       "    </tr>\n",
       "    <tr>\n",
       "      <th>2</th>\n",
       "      <td>Macedonia</td>\n",
       "      <td>7.9</td>\n",
       "    </tr>\n",
       "    <tr>\n",
       "      <th>3</th>\n",
       "      <td>Serbia</td>\n",
       "      <td>6.16</td>\n",
       "    </tr>\n",
       "    <tr>\n",
       "      <th>4</th>\n",
       "      <td>Andorra</td>\n",
       "      <td>3.69</td>\n",
       "    </tr>\n",
       "  </tbody>\n",
       "</table>\n",
       "</div>"
      ],
      "text/plain": [
       "     country infant_mortality\n",
       "0    Albania            13.19\n",
       "1     Greece             4.78\n",
       "2  Macedonia              7.9\n",
       "3     Serbia             6.16\n",
       "4    Andorra             3.69"
      ]
     },
     "execution_count": 236,
     "metadata": {},
     "output_type": "execute_result"
    }
   ],
   "source": [
    "df1.head()"
   ]
  },
  {
   "cell_type": "markdown",
   "metadata": {},
   "source": [
    "# 1. 10 countries with the lowest infant mortality rates"
   ]
  },
  {
   "cell_type": "code",
   "execution_count": 237,
   "metadata": {
    "collapsed": false
   },
   "outputs": [
    {
     "data": {
      "text/html": [
       "<div>\n",
       "<table border=\"1\" class=\"dataframe\">\n",
       "  <thead>\n",
       "    <tr style=\"text-align: right;\">\n",
       "      <th></th>\n",
       "      <th>country</th>\n",
       "      <th>infant_mortality</th>\n",
       "    </tr>\n",
       "  </thead>\n",
       "  <tbody>\n",
       "    <tr>\n",
       "      <th>36</th>\n",
       "      <td>Monaco</td>\n",
       "      <td>1.81</td>\n",
       "    </tr>\n",
       "    <tr>\n",
       "      <th>28</th>\n",
       "      <td>Romania</td>\n",
       "      <td>10.16</td>\n",
       "    </tr>\n",
       "    <tr>\n",
       "      <th>142</th>\n",
       "      <td>Fiji</td>\n",
       "      <td>10.2</td>\n",
       "    </tr>\n",
       "    <tr>\n",
       "      <th>63</th>\n",
       "      <td>Brunei</td>\n",
       "      <td>10.48</td>\n",
       "    </tr>\n",
       "    <tr>\n",
       "      <th>124</th>\n",
       "      <td>Grenada</td>\n",
       "      <td>10.5</td>\n",
       "    </tr>\n",
       "    <tr>\n",
       "      <th>221</th>\n",
       "      <td>Mauritius</td>\n",
       "      <td>10.59</td>\n",
       "    </tr>\n",
       "    <tr>\n",
       "      <th>116</th>\n",
       "      <td>Panama</td>\n",
       "      <td>10.7</td>\n",
       "    </tr>\n",
       "    <tr>\n",
       "      <th>227</th>\n",
       "      <td>Seychelles</td>\n",
       "      <td>10.77</td>\n",
       "    </tr>\n",
       "    <tr>\n",
       "      <th>94</th>\n",
       "      <td>United Arab Emirates</td>\n",
       "      <td>10.92</td>\n",
       "    </tr>\n",
       "    <tr>\n",
       "      <th>105</th>\n",
       "      <td>Barbados</td>\n",
       "      <td>10.93</td>\n",
       "    </tr>\n",
       "  </tbody>\n",
       "</table>\n",
       "</div>"
      ],
      "text/plain": [
       "                  country infant_mortality\n",
       "36                 Monaco             1.81\n",
       "28                Romania            10.16\n",
       "142                  Fiji             10.2\n",
       "63                 Brunei            10.48\n",
       "124               Grenada             10.5\n",
       "221             Mauritius            10.59\n",
       "116                Panama             10.7\n",
       "227            Seychelles            10.77\n",
       "94   United Arab Emirates            10.92\n",
       "105              Barbados            10.93"
      ]
     },
     "execution_count": 237,
     "metadata": {},
     "output_type": "execute_result"
    }
   ],
   "source": [
    "df1.sort_values('infant_mortality', ascending=True).head(10)"
   ]
  },
  {
   "cell_type": "code",
   "execution_count": 238,
   "metadata": {
    "collapsed": false
   },
   "outputs": [],
   "source": [
    "df2 = pd.DataFrame(columns=('country', 'province', 'city', 'population'))\n",
    "d = {'country':'', 'province':'', 'city':'', 'population':''}\n",
    "cou = 0\n",
    "for c in mondial.findall('country'):\n",
    "    for n in c.getchildren():\n",
    "        if n.tag == 'name':\n",
    "            #print(n.text)\n",
    "            d['country'] = n.text\n",
    "        if n.tag == 'city':\n",
    "            for nd in n.getchildren():\n",
    "                if nd.tag == 'name':\n",
    "                    #print(cou,'-',nd.text)\n",
    "                    d['city'] = nd.text\n",
    "                if nd.tag == 'population':\n",
    "                    if nd.attrib['year'] == '2011':\n",
    "                        d['population'] = int(nd.text)\n",
    "                        d['province'] = 'none'\n",
    "                df2.loc[cou] = d\n",
    "            cou += 1\n",
    "        if n.tag == 'province':\n",
    "            d['province'] = n.getchildren()[0].text\n",
    "            #print('province:', n.getchildren()[0].text)\n",
    "            for c in n.findall('city'):\n",
    "                for nd in c.getchildren():\n",
    "                    if nd.tag == 'name':\n",
    "                        #print(cou, '-',nd.text)\n",
    "                        d['city'] = nd.text\n",
    "                    if nd.tag == 'population':\n",
    "                        if nd.attrib['year'] == '2011':\n",
    "                            d['population'] = int(nd.text)\n",
    "                            #print('pop:',nd.attrib['year'], nd.text)\n",
    "                    df2.loc[cou] = d\n",
    "                cou += 1"
   ]
  },
  {
   "cell_type": "code",
   "execution_count": 239,
   "metadata": {
    "collapsed": false
   },
   "outputs": [
    {
     "data": {
      "text/html": [
       "<div>\n",
       "<table border=\"1\" class=\"dataframe\">\n",
       "  <thead>\n",
       "    <tr style=\"text-align: right;\">\n",
       "      <th></th>\n",
       "      <th>country</th>\n",
       "      <th>province</th>\n",
       "      <th>city</th>\n",
       "      <th>population</th>\n",
       "    </tr>\n",
       "  </thead>\n",
       "  <tbody>\n",
       "    <tr>\n",
       "      <th>0</th>\n",
       "      <td>Albania</td>\n",
       "      <td>none</td>\n",
       "      <td>Tirane</td>\n",
       "      <td>418495</td>\n",
       "    </tr>\n",
       "    <tr>\n",
       "      <th>1</th>\n",
       "      <td>Albania</td>\n",
       "      <td>none</td>\n",
       "      <td>Shkodër</td>\n",
       "      <td>77075</td>\n",
       "    </tr>\n",
       "    <tr>\n",
       "      <th>2</th>\n",
       "      <td>Albania</td>\n",
       "      <td>none</td>\n",
       "      <td>Durrës</td>\n",
       "      <td>113249</td>\n",
       "    </tr>\n",
       "    <tr>\n",
       "      <th>3</th>\n",
       "      <td>Albania</td>\n",
       "      <td>none</td>\n",
       "      <td>Vlorë</td>\n",
       "      <td>79513</td>\n",
       "    </tr>\n",
       "    <tr>\n",
       "      <th>4</th>\n",
       "      <td>Albania</td>\n",
       "      <td>none</td>\n",
       "      <td>Elbasan</td>\n",
       "      <td>78703</td>\n",
       "    </tr>\n",
       "    <tr>\n",
       "      <th>5</th>\n",
       "      <td>Albania</td>\n",
       "      <td>none</td>\n",
       "      <td>Korçë</td>\n",
       "      <td>51152</td>\n",
       "    </tr>\n",
       "    <tr>\n",
       "      <th>6</th>\n",
       "      <td>Greece</td>\n",
       "      <td>Anatolikis Makedonias kai Thrakis</td>\n",
       "      <td>Komotini</td>\n",
       "      <td>51152</td>\n",
       "    </tr>\n",
       "    <tr>\n",
       "      <th>7</th>\n",
       "      <td>Greece</td>\n",
       "      <td>Anatolikis Makedonias kai Thrakis</td>\n",
       "      <td>Kavala</td>\n",
       "      <td>58790</td>\n",
       "    </tr>\n",
       "    <tr>\n",
       "      <th>8</th>\n",
       "      <td>Greece</td>\n",
       "      <td>Attikis</td>\n",
       "      <td>Athina</td>\n",
       "      <td>664046</td>\n",
       "    </tr>\n",
       "    <tr>\n",
       "      <th>9</th>\n",
       "      <td>Greece</td>\n",
       "      <td>Attikis</td>\n",
       "      <td>Piräus</td>\n",
       "      <td>163688</td>\n",
       "    </tr>\n",
       "    <tr>\n",
       "      <th>10</th>\n",
       "      <td>Greece</td>\n",
       "      <td>Attikis</td>\n",
       "      <td>Peristeri</td>\n",
       "      <td>139981</td>\n",
       "    </tr>\n",
       "    <tr>\n",
       "      <th>11</th>\n",
       "      <td>Greece</td>\n",
       "      <td>Attikis</td>\n",
       "      <td>Acharnes</td>\n",
       "      <td>106943</td>\n",
       "    </tr>\n",
       "    <tr>\n",
       "      <th>12</th>\n",
       "      <td>Greece</td>\n",
       "      <td>Dytikis Elladas</td>\n",
       "      <td>Patras</td>\n",
       "      <td>213984</td>\n",
       "    </tr>\n",
       "    <tr>\n",
       "      <th>13</th>\n",
       "      <td>Greece</td>\n",
       "      <td>Dytikis Makedonias</td>\n",
       "      <td>Kozani</td>\n",
       "      <td>213984</td>\n",
       "    </tr>\n",
       "    <tr>\n",
       "      <th>14</th>\n",
       "      <td>Greece</td>\n",
       "      <td>Ionion Nison</td>\n",
       "      <td>Korfu</td>\n",
       "      <td>102071</td>\n",
       "    </tr>\n",
       "    <tr>\n",
       "      <th>15</th>\n",
       "      <td>Greece</td>\n",
       "      <td>Ipeiroy</td>\n",
       "      <td>Ioannina</td>\n",
       "      <td>112486</td>\n",
       "    </tr>\n",
       "    <tr>\n",
       "      <th>16</th>\n",
       "      <td>Greece</td>\n",
       "      <td>Kentrikis Makedonias</td>\n",
       "      <td>Thessaloniki</td>\n",
       "      <td>325182</td>\n",
       "    </tr>\n",
       "    <tr>\n",
       "      <th>17</th>\n",
       "      <td>Greece</td>\n",
       "      <td>Kritis</td>\n",
       "      <td>Iraklion</td>\n",
       "      <td>173993</td>\n",
       "    </tr>\n",
       "    <tr>\n",
       "      <th>18</th>\n",
       "      <td>Greece</td>\n",
       "      <td>Kritis</td>\n",
       "      <td>Chania</td>\n",
       "      <td>108642</td>\n",
       "    </tr>\n",
       "    <tr>\n",
       "      <th>19</th>\n",
       "      <td>Greece</td>\n",
       "      <td>Notioy Aigaioy</td>\n",
       "      <td>Ermoupoli</td>\n",
       "      <td>108642</td>\n",
       "    </tr>\n",
       "  </tbody>\n",
       "</table>\n",
       "</div>"
      ],
      "text/plain": [
       "    country                           province          city population\n",
       "0   Albania                               none        Tirane     418495\n",
       "1   Albania                               none       Shkodër      77075\n",
       "2   Albania                               none        Durrës     113249\n",
       "3   Albania                               none         Vlorë      79513\n",
       "4   Albania                               none       Elbasan      78703\n",
       "5   Albania                               none         Korçë      51152\n",
       "6    Greece  Anatolikis Makedonias kai Thrakis      Komotini      51152\n",
       "7    Greece  Anatolikis Makedonias kai Thrakis        Kavala      58790\n",
       "8    Greece                            Attikis        Athina     664046\n",
       "9    Greece                            Attikis        Piräus     163688\n",
       "10   Greece                            Attikis     Peristeri     139981\n",
       "11   Greece                            Attikis      Acharnes     106943\n",
       "12   Greece                    Dytikis Elladas        Patras     213984\n",
       "13   Greece                 Dytikis Makedonias        Kozani     213984\n",
       "14   Greece                       Ionion Nison         Korfu     102071\n",
       "15   Greece                            Ipeiroy      Ioannina     112486\n",
       "16   Greece               Kentrikis Makedonias  Thessaloniki     325182\n",
       "17   Greece                             Kritis      Iraklion     173993\n",
       "18   Greece                             Kritis        Chania     108642\n",
       "19   Greece                     Notioy Aigaioy     Ermoupoli     108642"
      ]
     },
     "execution_count": 239,
     "metadata": {},
     "output_type": "execute_result"
    }
   ],
   "source": [
    "df2.head(20)"
   ]
  },
  {
   "cell_type": "code",
   "execution_count": 261,
   "metadata": {
    "collapsed": false
   },
   "outputs": [
    {
     "data": {
      "text/plain": [
       "3380"
      ]
     },
     "execution_count": 261,
     "metadata": {},
     "output_type": "execute_result"
    }
   ],
   "source": [
    "len(df2)"
   ]
  },
  {
   "cell_type": "markdown",
   "metadata": {},
   "source": [
    "# 2. 10 cities with the largest population"
   ]
  },
  {
   "cell_type": "code",
   "execution_count": 240,
   "metadata": {
    "collapsed": false
   },
   "outputs": [
    {
     "data": {
      "text/html": [
       "<div>\n",
       "<table border=\"1\" class=\"dataframe\">\n",
       "  <thead>\n",
       "    <tr style=\"text-align: right;\">\n",
       "      <th></th>\n",
       "      <th>country</th>\n",
       "      <th>province</th>\n",
       "      <th>city</th>\n",
       "      <th>population</th>\n",
       "    </tr>\n",
       "  </thead>\n",
       "  <tbody>\n",
       "    <tr>\n",
       "      <th>1527</th>\n",
       "      <td>India</td>\n",
       "      <td>Maharashtra</td>\n",
       "      <td>Mumbai</td>\n",
       "      <td>12442373</td>\n",
       "    </tr>\n",
       "    <tr>\n",
       "      <th>1582</th>\n",
       "      <td>India</td>\n",
       "      <td>Delhi</td>\n",
       "      <td>Delhi</td>\n",
       "      <td>11034555</td>\n",
       "    </tr>\n",
       "    <tr>\n",
       "      <th>1515</th>\n",
       "      <td>India</td>\n",
       "      <td>Karnataka</td>\n",
       "      <td>Bangalore</td>\n",
       "      <td>8443675</td>\n",
       "    </tr>\n",
       "    <tr>\n",
       "      <th>1517</th>\n",
       "      <td>India</td>\n",
       "      <td>Karnataka</td>\n",
       "      <td>Mysore</td>\n",
       "      <td>8443675</td>\n",
       "    </tr>\n",
       "    <tr>\n",
       "      <th>1516</th>\n",
       "      <td>India</td>\n",
       "      <td>Karnataka</td>\n",
       "      <td>Hubli</td>\n",
       "      <td>8443675</td>\n",
       "    </tr>\n",
       "    <tr>\n",
       "      <th>1000</th>\n",
       "      <td>United Kingdom</td>\n",
       "      <td>London</td>\n",
       "      <td>London</td>\n",
       "      <td>8250205</td>\n",
       "    </tr>\n",
       "    <tr>\n",
       "      <th>1382</th>\n",
       "      <td>Iran</td>\n",
       "      <td>Tehran</td>\n",
       "      <td>Tehran</td>\n",
       "      <td>8154051</td>\n",
       "    </tr>\n",
       "    <tr>\n",
       "      <th>1470</th>\n",
       "      <td>Bangladesh</td>\n",
       "      <td>Dhaka</td>\n",
       "      <td>Dhaka</td>\n",
       "      <td>7423137</td>\n",
       "    </tr>\n",
       "    <tr>\n",
       "      <th>1593</th>\n",
       "      <td>India</td>\n",
       "      <td>Uttarakhand</td>\n",
       "      <td>Dehra Dun</td>\n",
       "      <td>6731790</td>\n",
       "    </tr>\n",
       "    <tr>\n",
       "      <th>1594</th>\n",
       "      <td>Bhutan</td>\n",
       "      <td>Uttarakhand</td>\n",
       "      <td>Thimphu</td>\n",
       "      <td>6731790</td>\n",
       "    </tr>\n",
       "  </tbody>\n",
       "</table>\n",
       "</div>"
      ],
      "text/plain": [
       "             country     province       city population\n",
       "1527           India  Maharashtra     Mumbai   12442373\n",
       "1582           India        Delhi      Delhi   11034555\n",
       "1515           India    Karnataka  Bangalore    8443675\n",
       "1517           India    Karnataka     Mysore    8443675\n",
       "1516           India    Karnataka      Hubli    8443675\n",
       "1000  United Kingdom       London     London    8250205\n",
       "1382            Iran       Tehran     Tehran    8154051\n",
       "1470      Bangladesh        Dhaka      Dhaka    7423137\n",
       "1593           India  Uttarakhand  Dehra Dun    6731790\n",
       "1594          Bhutan  Uttarakhand    Thimphu    6731790"
      ]
     },
     "execution_count": 240,
     "metadata": {},
     "output_type": "execute_result"
    }
   ],
   "source": [
    "df2.sort_values('population', ascending=False).head(10)\n",
    "#hometown tops the list :D :D :D"
   ]
  },
  {
   "cell_type": "code",
   "execution_count": null,
   "metadata": {
    "collapsed": true
   },
   "outputs": [],
   "source": []
  },
  {
   "cell_type": "code",
   "execution_count": null,
   "metadata": {
    "collapsed": true
   },
   "outputs": [],
   "source": []
  },
  {
   "cell_type": "code",
   "execution_count": null,
   "metadata": {
    "collapsed": true
   },
   "outputs": [],
   "source": []
  },
  {
   "cell_type": "code",
   "execution_count": null,
   "metadata": {
    "collapsed": true
   },
   "outputs": [],
   "source": []
  },
  {
   "cell_type": "code",
   "execution_count": null,
   "metadata": {
    "collapsed": true
   },
   "outputs": [],
   "source": []
  },
  {
   "cell_type": "markdown",
   "metadata": {},
   "source": [
    "# 3. 10 ethnic groups with the largest overall populations (sum of best/latest estimates over all countries)"
   ]
  },
  {
   "cell_type": "code",
   "execution_count": null,
   "metadata": {
    "collapsed": true
   },
   "outputs": [],
   "source": []
  },
  {
   "cell_type": "code",
   "execution_count": null,
   "metadata": {
    "collapsed": true
   },
   "outputs": [],
   "source": []
  },
  {
   "cell_type": "code",
   "execution_count": null,
   "metadata": {
    "collapsed": true
   },
   "outputs": [],
   "source": []
  },
  {
   "cell_type": "code",
   "execution_count": null,
   "metadata": {
    "collapsed": true
   },
   "outputs": [],
   "source": []
  },
  {
   "cell_type": "code",
   "execution_count": null,
   "metadata": {
    "collapsed": true
   },
   "outputs": [],
   "source": []
  },
  {
   "cell_type": "code",
   "execution_count": null,
   "metadata": {
    "collapsed": true
   },
   "outputs": [],
   "source": []
  },
  {
   "cell_type": "markdown",
   "metadata": {},
   "source": [
    "\n",
    "# 4. name and country of a) longest river, b) largest lake and c) airport at highest elevation"
   ]
  },
  {
   "cell_type": "code",
   "execution_count": 306,
   "metadata": {
    "collapsed": true
   },
   "outputs": [],
   "source": [
    "cou = 0\n",
    "rivers = mondial.findall('river')\n",
    "df4 = pd.DataFrame(columns=('name', 'country', 'length'))\n",
    "d = {'name':'', 'country':'', 'length':''}\n",
    "for r in rivers:\n",
    "    try:\n",
    "        t = r.attrib['country']\n",
    "        n = r.getchildren()[0].text\n",
    "        l = int(r.getchildren()[3].text)\n",
    "    except:\n",
    "        t = 'none'\n",
    "        n = \"none\"\n",
    "        l = 0\n",
    "    #print(c, a.getchildren()[0].text, a.getchildren()[3].text)\n",
    "    d['country'] = t\n",
    "    d['name'] = n\n",
    "    d['length'] = l\n",
    "    df4.loc[cou] = d\n",
    "    cou += 1"
   ]
  },
  {
   "cell_type": "code",
   "execution_count": 307,
   "metadata": {
    "collapsed": false
   },
   "outputs": [
    {
     "data": {
      "text/plain": [
       "238"
      ]
     },
     "execution_count": 307,
     "metadata": {},
     "output_type": "execute_result"
    }
   ],
   "source": [
    "len(df4)"
   ]
  },
  {
   "cell_type": "code",
   "execution_count": 292,
   "metadata": {
    "collapsed": false
   },
   "outputs": [
    {
     "data": {
      "text/html": [
       "<div>\n",
       "<table border=\"1\" class=\"dataframe\">\n",
       "  <thead>\n",
       "    <tr style=\"text-align: right;\">\n",
       "      <th></th>\n",
       "      <th>name</th>\n",
       "      <th>country</th>\n",
       "      <th>length</th>\n",
       "    </tr>\n",
       "  </thead>\n",
       "  <tbody>\n",
       "    <tr>\n",
       "      <th>0</th>\n",
       "      <td>Thjorsa</td>\n",
       "      <td>IS</td>\n",
       "      <td>230</td>\n",
       "    </tr>\n",
       "    <tr>\n",
       "      <th>1</th>\n",
       "      <td>none</td>\n",
       "      <td>none</td>\n",
       "      <td>0</td>\n",
       "    </tr>\n",
       "    <tr>\n",
       "      <th>2</th>\n",
       "      <td>Glomma</td>\n",
       "      <td>N</td>\n",
       "      <td>604</td>\n",
       "    </tr>\n",
       "    <tr>\n",
       "      <th>3</th>\n",
       "      <td>none</td>\n",
       "      <td>none</td>\n",
       "      <td>0</td>\n",
       "    </tr>\n",
       "    <tr>\n",
       "      <th>4</th>\n",
       "      <td>Goetaaelv</td>\n",
       "      <td>S</td>\n",
       "      <td>50180</td>\n",
       "    </tr>\n",
       "  </tbody>\n",
       "</table>\n",
       "</div>"
      ],
      "text/plain": [
       "        name country  length\n",
       "0    Thjorsa      IS     230\n",
       "1       none    none       0\n",
       "2     Glomma       N     604\n",
       "3       none    none       0\n",
       "4  Goetaaelv       S   50180"
      ]
     },
     "execution_count": 292,
     "metadata": {},
     "output_type": "execute_result"
    }
   ],
   "source": [
    "df4.head()"
   ]
  },
  {
   "cell_type": "markdown",
   "metadata": {},
   "source": [
    "## 4a. name and country of the longest river (top 10)"
   ]
  },
  {
   "cell_type": "code",
   "execution_count": 294,
   "metadata": {
    "collapsed": false
   },
   "outputs": [
    {
     "data": {
      "text/html": [
       "<div>\n",
       "<table border=\"1\" class=\"dataframe\">\n",
       "  <thead>\n",
       "    <tr style=\"text-align: right;\">\n",
       "      <th></th>\n",
       "      <th>name</th>\n",
       "      <th>country</th>\n",
       "      <th>length</th>\n",
       "    </tr>\n",
       "  </thead>\n",
       "  <tbody>\n",
       "    <tr>\n",
       "      <th>190</th>\n",
       "      <td>Nile</td>\n",
       "      <td>ET SUD</td>\n",
       "      <td>3254853</td>\n",
       "    </tr>\n",
       "    <tr>\n",
       "      <th>159</th>\n",
       "      <td>Mississippi</td>\n",
       "      <td>USA</td>\n",
       "      <td>2981076</td>\n",
       "    </tr>\n",
       "    <tr>\n",
       "      <th>114</th>\n",
       "      <td>Ob</td>\n",
       "      <td>R</td>\n",
       "      <td>2972497</td>\n",
       "    </tr>\n",
       "    <tr>\n",
       "      <th>119</th>\n",
       "      <td>Jenissej</td>\n",
       "      <td>R</td>\n",
       "      <td>2554482</td>\n",
       "    </tr>\n",
       "    <tr>\n",
       "      <th>123</th>\n",
       "      <td>Lena</td>\n",
       "      <td>R</td>\n",
       "      <td>2306772</td>\n",
       "    </tr>\n",
       "    <tr>\n",
       "      <th>137</th>\n",
       "      <td>Jangtse</td>\n",
       "      <td>CN</td>\n",
       "      <td>1722155</td>\n",
       "    </tr>\n",
       "    <tr>\n",
       "      <th>147</th>\n",
       "      <td>Nelson River</td>\n",
       "      <td>CDN</td>\n",
       "      <td>1093442</td>\n",
       "    </tr>\n",
       "    <tr>\n",
       "      <th>232</th>\n",
       "      <td>Vaal</td>\n",
       "      <td>RSA</td>\n",
       "      <td>973000</td>\n",
       "    </tr>\n",
       "    <tr>\n",
       "      <th>231</th>\n",
       "      <td>Oranje</td>\n",
       "      <td>LS NAM RSA</td>\n",
       "      <td>973000</td>\n",
       "    </tr>\n",
       "    <tr>\n",
       "      <th>146</th>\n",
       "      <td>Mackenzie River</td>\n",
       "      <td>CDN</td>\n",
       "      <td>886300</td>\n",
       "    </tr>\n",
       "  </tbody>\n",
       "</table>\n",
       "</div>"
      ],
      "text/plain": [
       "                name     country   length\n",
       "190             Nile      ET SUD  3254853\n",
       "159      Mississippi         USA  2981076\n",
       "114               Ob           R  2972497\n",
       "119         Jenissej           R  2554482\n",
       "123             Lena           R  2306772\n",
       "137          Jangtse          CN  1722155\n",
       "147     Nelson River         CDN  1093442\n",
       "232             Vaal         RSA   973000\n",
       "231           Oranje  LS NAM RSA   973000\n",
       "146  Mackenzie River         CDN   886300"
      ]
     },
     "execution_count": 294,
     "metadata": {},
     "output_type": "execute_result"
    }
   ],
   "source": [
    "df4.sort_values('length', ascending=False).head(10)"
   ]
  },
  {
   "cell_type": "code",
   "execution_count": 302,
   "metadata": {
    "collapsed": false
   },
   "outputs": [],
   "source": [
    "cou = 0\n",
    "lakes = mondial.findall('lake')\n",
    "df5 = pd.DataFrame(columns=('name', 'country', 'area'))\n",
    "d = {'name':'', 'country':'', 'area':''}\n",
    "for l in lakes:\n",
    "    try:\n",
    "        t = l.attrib['country']\n",
    "        n = l.getchildren()[0].text\n",
    "        a = int(l.getchildren()[3].text)\n",
    "    except:\n",
    "        t = 'none'\n",
    "        n = \"none\"\n",
    "        a = 0\n",
    "    #print(t, n, a)\n",
    "    d['country'] = t\n",
    "    d['name'] = n\n",
    "    d['area'] = a\n",
    "    df5.loc[cou] = d\n",
    "    cou += 1"
   ]
  },
  {
   "cell_type": "code",
   "execution_count": 303,
   "metadata": {
    "collapsed": false
   },
   "outputs": [
    {
     "data": {
      "text/plain": [
       "141"
      ]
     },
     "execution_count": 303,
     "metadata": {},
     "output_type": "execute_result"
    }
   ],
   "source": [
    "len(df5)"
   ]
  },
  {
   "cell_type": "code",
   "execution_count": 308,
   "metadata": {
    "collapsed": false
   },
   "outputs": [
    {
     "data": {
      "text/html": [
       "<div>\n",
       "<table border=\"1\" class=\"dataframe\">\n",
       "  <thead>\n",
       "    <tr style=\"text-align: right;\">\n",
       "      <th></th>\n",
       "      <th>name</th>\n",
       "      <th>country</th>\n",
       "      <th>area</th>\n",
       "    </tr>\n",
       "  </thead>\n",
       "  <tbody>\n",
       "    <tr>\n",
       "      <th>0</th>\n",
       "      <td>Inari</td>\n",
       "      <td>SF</td>\n",
       "      <td>1040</td>\n",
       "    </tr>\n",
       "    <tr>\n",
       "      <th>1</th>\n",
       "      <td>Oulujaervi</td>\n",
       "      <td>SF</td>\n",
       "      <td>928</td>\n",
       "    </tr>\n",
       "    <tr>\n",
       "      <th>2</th>\n",
       "      <td>Kallavesi</td>\n",
       "      <td>SF</td>\n",
       "      <td>472</td>\n",
       "    </tr>\n",
       "    <tr>\n",
       "      <th>3</th>\n",
       "      <td>Saimaa</td>\n",
       "      <td>SF</td>\n",
       "      <td>4370</td>\n",
       "    </tr>\n",
       "    <tr>\n",
       "      <th>4</th>\n",
       "      <td>Paeijaenne</td>\n",
       "      <td>SF</td>\n",
       "      <td>1118</td>\n",
       "    </tr>\n",
       "    <tr>\n",
       "      <th>5</th>\n",
       "      <td>Mjoesa-See</td>\n",
       "      <td>N</td>\n",
       "      <td>368</td>\n",
       "    </tr>\n",
       "    <tr>\n",
       "      <th>6</th>\n",
       "      <td>Storuman</td>\n",
       "      <td>S</td>\n",
       "      <td>173</td>\n",
       "    </tr>\n",
       "    <tr>\n",
       "      <th>7</th>\n",
       "      <td>Siljan</td>\n",
       "      <td>S</td>\n",
       "      <td>290</td>\n",
       "    </tr>\n",
       "    <tr>\n",
       "      <th>8</th>\n",
       "      <td>Maelaren</td>\n",
       "      <td>S</td>\n",
       "      <td>1140</td>\n",
       "    </tr>\n",
       "    <tr>\n",
       "      <th>9</th>\n",
       "      <td>Vaenern</td>\n",
       "      <td>S</td>\n",
       "      <td>5648</td>\n",
       "    </tr>\n",
       "  </tbody>\n",
       "</table>\n",
       "</div>"
      ],
      "text/plain": [
       "         name country  area\n",
       "0       Inari      SF  1040\n",
       "1  Oulujaervi      SF   928\n",
       "2   Kallavesi      SF   472\n",
       "3      Saimaa      SF  4370\n",
       "4  Paeijaenne      SF  1118\n",
       "5  Mjoesa-See       N   368\n",
       "6    Storuman       S   173\n",
       "7      Siljan       S   290\n",
       "8    Maelaren       S  1140\n",
       "9     Vaenern       S  5648"
      ]
     },
     "execution_count": 308,
     "metadata": {},
     "output_type": "execute_result"
    }
   ],
   "source": [
    "df5.head(10)"
   ]
  },
  {
   "cell_type": "code",
   "execution_count": 304,
   "metadata": {
    "collapsed": false
   },
   "outputs": [],
   "source": [
    "cou = 0\n",
    "airports = mondial.findall('airport')\n",
    "df3 = pd.DataFrame(columns=('country', 'city', 'airport', 'elevation'))\n",
    "d = {'country':'', 'city':'', 'airport':'', 'elevation':''}\n",
    "for a in airports:\n",
    "    try:\n",
    "        t = a.attrib['country']\n",
    "        c = a.attrib['city']\n",
    "        n = a.getchildren()[0].text\n",
    "        e = int(a.getchildren()[3].text)\n",
    "    except:\n",
    "        t = 'none'\n",
    "        c = \"none\"\n",
    "        n = \"none\"\n",
    "        e = 0\n",
    "    #print(c, a.getchildren()[0].text, a.getchildren()[3].text)\n",
    "    d['country'] = t\n",
    "    d['city'] = c\n",
    "    d['airport'] = n\n",
    "    d['elevation'] = e\n",
    "    df3.loc[cou] = d\n",
    "    cou += 1"
   ]
  },
  {
   "cell_type": "markdown",
   "metadata": {},
   "source": [
    "## 4b. name and country of the largest lake (top 10)"
   ]
  },
  {
   "cell_type": "code",
   "execution_count": 310,
   "metadata": {
    "collapsed": false
   },
   "outputs": [
    {
     "data": {
      "text/html": [
       "<div>\n",
       "<table border=\"1\" class=\"dataframe\">\n",
       "  <thead>\n",
       "    <tr style=\"text-align: right;\">\n",
       "      <th></th>\n",
       "      <th>name</th>\n",
       "      <th>country</th>\n",
       "      <th>area</th>\n",
       "    </tr>\n",
       "  </thead>\n",
       "  <tbody>\n",
       "    <tr>\n",
       "      <th>81</th>\n",
       "      <td>Lake Victoria</td>\n",
       "      <td>EAT EAK EAU</td>\n",
       "      <td>68870</td>\n",
       "    </tr>\n",
       "    <tr>\n",
       "      <th>108</th>\n",
       "      <td>Lake Michigan</td>\n",
       "      <td>USA</td>\n",
       "      <td>57800</td>\n",
       "    </tr>\n",
       "    <tr>\n",
       "      <th>43</th>\n",
       "      <td>Ozero Baikal</td>\n",
       "      <td>R</td>\n",
       "      <td>31492</td>\n",
       "    </tr>\n",
       "    <tr>\n",
       "      <th>99</th>\n",
       "      <td>Great Slave Lake</td>\n",
       "      <td>CDN</td>\n",
       "      <td>28568</td>\n",
       "    </tr>\n",
       "    <tr>\n",
       "      <th>101</th>\n",
       "      <td>Lake Winnipeg</td>\n",
       "      <td>CDN</td>\n",
       "      <td>24420</td>\n",
       "    </tr>\n",
       "    <tr>\n",
       "      <th>40</th>\n",
       "      <td>Ozero Ladoga</td>\n",
       "      <td>R</td>\n",
       "      <td>18400</td>\n",
       "    </tr>\n",
       "    <tr>\n",
       "      <th>55</th>\n",
       "      <td>Ozero Aral</td>\n",
       "      <td>UZB KAZ</td>\n",
       "      <td>17160</td>\n",
       "    </tr>\n",
       "    <tr>\n",
       "      <th>129</th>\n",
       "      <td>Lake Maracaibo</td>\n",
       "      <td>YV</td>\n",
       "      <td>13000</td>\n",
       "    </tr>\n",
       "    <tr>\n",
       "      <th>85</th>\n",
       "      <td>Lake Bangweulu</td>\n",
       "      <td>Z</td>\n",
       "      <td>10000</td>\n",
       "    </tr>\n",
       "    <tr>\n",
       "      <th>66</th>\n",
       "      <td>Lake Volta</td>\n",
       "      <td>GH</td>\n",
       "      <td>8502</td>\n",
       "    </tr>\n",
       "  </tbody>\n",
       "</table>\n",
       "</div>"
      ],
      "text/plain": [
       "                 name      country   area\n",
       "81      Lake Victoria  EAT EAK EAU  68870\n",
       "108     Lake Michigan          USA  57800\n",
       "43       Ozero Baikal            R  31492\n",
       "99   Great Slave Lake          CDN  28568\n",
       "101     Lake Winnipeg          CDN  24420\n",
       "40       Ozero Ladoga            R  18400\n",
       "55         Ozero Aral      UZB KAZ  17160\n",
       "129    Lake Maracaibo           YV  13000\n",
       "85     Lake Bangweulu            Z  10000\n",
       "66         Lake Volta           GH   8502"
      ]
     },
     "execution_count": 310,
     "metadata": {},
     "output_type": "execute_result"
    }
   ],
   "source": [
    "df5.sort_values('area', ascending=False).head(10)"
   ]
  },
  {
   "cell_type": "code",
   "execution_count": 284,
   "metadata": {
    "collapsed": false
   },
   "outputs": [
    {
     "data": {
      "text/html": [
       "<div>\n",
       "<table border=\"1\" class=\"dataframe\">\n",
       "  <thead>\n",
       "    <tr style=\"text-align: right;\">\n",
       "      <th></th>\n",
       "      <th>country</th>\n",
       "      <th>city</th>\n",
       "      <th>airport</th>\n",
       "      <th>elevation</th>\n",
       "    </tr>\n",
       "  </thead>\n",
       "  <tbody>\n",
       "    <tr>\n",
       "      <th>0</th>\n",
       "      <td>AFG</td>\n",
       "      <td>cty-Afghanistan-2</td>\n",
       "      <td>Herat</td>\n",
       "      <td>977</td>\n",
       "    </tr>\n",
       "    <tr>\n",
       "      <th>1</th>\n",
       "      <td>AFG</td>\n",
       "      <td>cty-Afghanistan-Kabul</td>\n",
       "      <td>Kabul Intl</td>\n",
       "      <td>1792</td>\n",
       "    </tr>\n",
       "    <tr>\n",
       "      <th>2</th>\n",
       "      <td>AL</td>\n",
       "      <td>cty-Albania-Tirane</td>\n",
       "      <td>Tirana Rinas</td>\n",
       "      <td>38</td>\n",
       "    </tr>\n",
       "    <tr>\n",
       "      <th>3</th>\n",
       "      <td>DZ</td>\n",
       "      <td>cty-Algeria-14</td>\n",
       "      <td>Cheikh Larbi Tebessi</td>\n",
       "      <td>811</td>\n",
       "    </tr>\n",
       "    <tr>\n",
       "      <th>4</th>\n",
       "      <td>DZ</td>\n",
       "      <td>cty-Algeria-6</td>\n",
       "      <td>Batna Airport</td>\n",
       "      <td>822</td>\n",
       "    </tr>\n",
       "    <tr>\n",
       "      <th>5</th>\n",
       "      <td>DZ</td>\n",
       "      <td>cty-Algeria-11</td>\n",
       "      <td>Soummam</td>\n",
       "      <td>6</td>\n",
       "    </tr>\n",
       "    <tr>\n",
       "      <th>6</th>\n",
       "      <td>DZ</td>\n",
       "      <td>cty-Algeria-19</td>\n",
       "      <td>Tamanrasset</td>\n",
       "      <td>1377</td>\n",
       "    </tr>\n",
       "    <tr>\n",
       "      <th>7</th>\n",
       "      <td>DZ</td>\n",
       "      <td>cty-Algeria-17</td>\n",
       "      <td>Biskra</td>\n",
       "      <td>88</td>\n",
       "    </tr>\n",
       "    <tr>\n",
       "      <th>8</th>\n",
       "      <td>DZ</td>\n",
       "      <td>cty-Algeria-4</td>\n",
       "      <td>Mohamed Boudiaf Intl</td>\n",
       "      <td>691</td>\n",
       "    </tr>\n",
       "    <tr>\n",
       "      <th>9</th>\n",
       "      <td>DZ</td>\n",
       "      <td>cty-Algeria-7</td>\n",
       "      <td>Ain Arnat Airport</td>\n",
       "      <td>1024</td>\n",
       "    </tr>\n",
       "  </tbody>\n",
       "</table>\n",
       "</div>"
      ],
      "text/plain": [
       "  country                   city               airport  elevation\n",
       "0     AFG      cty-Afghanistan-2                 Herat        977\n",
       "1     AFG  cty-Afghanistan-Kabul            Kabul Intl       1792\n",
       "2      AL     cty-Albania-Tirane          Tirana Rinas         38\n",
       "3      DZ         cty-Algeria-14  Cheikh Larbi Tebessi        811\n",
       "4      DZ          cty-Algeria-6         Batna Airport        822\n",
       "5      DZ         cty-Algeria-11               Soummam          6\n",
       "6      DZ         cty-Algeria-19           Tamanrasset       1377\n",
       "7      DZ         cty-Algeria-17                Biskra         88\n",
       "8      DZ          cty-Algeria-4  Mohamed Boudiaf Intl        691\n",
       "9      DZ          cty-Algeria-7     Ain Arnat Airport       1024"
      ]
     },
     "execution_count": 284,
     "metadata": {},
     "output_type": "execute_result"
    }
   ],
   "source": [
    "df3.head(10)"
   ]
  },
  {
   "cell_type": "code",
   "execution_count": 305,
   "metadata": {
    "collapsed": false
   },
   "outputs": [
    {
     "data": {
      "text/plain": [
       "1315"
      ]
     },
     "execution_count": 305,
     "metadata": {},
     "output_type": "execute_result"
    }
   ],
   "source": [
    "len(df3)"
   ]
  },
  {
   "cell_type": "markdown",
   "metadata": {},
   "source": [
    "## 4c. Name and Country of the highest airport (top 10)"
   ]
  },
  {
   "cell_type": "code",
   "execution_count": 286,
   "metadata": {
    "collapsed": false
   },
   "outputs": [
    {
     "data": {
      "text/html": [
       "<div>\n",
       "<table border=\"1\" class=\"dataframe\">\n",
       "  <thead>\n",
       "    <tr style=\"text-align: right;\">\n",
       "      <th></th>\n",
       "      <th>country</th>\n",
       "      <th>city</th>\n",
       "      <th>airport</th>\n",
       "      <th>elevation</th>\n",
       "    </tr>\n",
       "  </thead>\n",
       "  <tbody>\n",
       "    <tr>\n",
       "      <th>80</th>\n",
       "      <td>BOL</td>\n",
       "      <td>cty-BOL-1</td>\n",
       "      <td>El Alto Intl</td>\n",
       "      <td>4063</td>\n",
       "    </tr>\n",
       "    <tr>\n",
       "      <th>219</th>\n",
       "      <td>CN</td>\n",
       "      <td>cty-China-324</td>\n",
       "      <td>Lhasa-Gonggar</td>\n",
       "      <td>4005</td>\n",
       "    </tr>\n",
       "    <tr>\n",
       "      <th>241</th>\n",
       "      <td>CN</td>\n",
       "      <td>cty-China-281</td>\n",
       "      <td>Yushu Batang</td>\n",
       "      <td>3963</td>\n",
       "    </tr>\n",
       "    <tr>\n",
       "      <th>813</th>\n",
       "      <td>PE</td>\n",
       "      <td>cty-Peru-15</td>\n",
       "      <td>Juliaca</td>\n",
       "      <td>3827</td>\n",
       "    </tr>\n",
       "    <tr>\n",
       "      <th>815</th>\n",
       "      <td>PE</td>\n",
       "      <td>cty-Peru-10</td>\n",
       "      <td>Teniente Alejandro Velasco Astete Intl</td>\n",
       "      <td>3311</td>\n",
       "    </tr>\n",
       "    <tr>\n",
       "      <th>82</th>\n",
       "      <td>BOL</td>\n",
       "      <td>cty-BOL-7</td>\n",
       "      <td>Juana Azurduy De Padilla</td>\n",
       "      <td>2905</td>\n",
       "    </tr>\n",
       "    <tr>\n",
       "      <th>334</th>\n",
       "      <td>EC</td>\n",
       "      <td>cty-Ecuador-Quito</td>\n",
       "      <td>Mariscal Sucre Intl</td>\n",
       "      <td>2813</td>\n",
       "    </tr>\n",
       "    <tr>\n",
       "      <th>805</th>\n",
       "      <td>PE</td>\n",
       "      <td>cty-Peru-18</td>\n",
       "      <td>Coronel Fap Alfredo Mendivil Duarte</td>\n",
       "      <td>2719</td>\n",
       "    </tr>\n",
       "    <tr>\n",
       "      <th>807</th>\n",
       "      <td>PE</td>\n",
       "      <td>cty-Peru-19</td>\n",
       "      <td>Mayor General FAP Armando Revoredo Iglesias Ai...</td>\n",
       "      <td>2677</td>\n",
       "    </tr>\n",
       "    <tr>\n",
       "      <th>692</th>\n",
       "      <td>MEX</td>\n",
       "      <td>cty-Mexico-28</td>\n",
       "      <td>Licenciado Adolfo Lopez Mateos Intl</td>\n",
       "      <td>2581</td>\n",
       "    </tr>\n",
       "  </tbody>\n",
       "</table>\n",
       "</div>"
      ],
      "text/plain": [
       "    country               city  \\\n",
       "80      BOL          cty-BOL-1   \n",
       "219      CN      cty-China-324   \n",
       "241      CN      cty-China-281   \n",
       "813      PE        cty-Peru-15   \n",
       "815      PE        cty-Peru-10   \n",
       "82      BOL          cty-BOL-7   \n",
       "334      EC  cty-Ecuador-Quito   \n",
       "805      PE        cty-Peru-18   \n",
       "807      PE        cty-Peru-19   \n",
       "692     MEX      cty-Mexico-28   \n",
       "\n",
       "                                               airport  elevation  \n",
       "80                                        El Alto Intl       4063  \n",
       "219                                      Lhasa-Gonggar       4005  \n",
       "241                                       Yushu Batang       3963  \n",
       "813                                            Juliaca       3827  \n",
       "815             Teniente Alejandro Velasco Astete Intl       3311  \n",
       "82                            Juana Azurduy De Padilla       2905  \n",
       "334                                Mariscal Sucre Intl       2813  \n",
       "805                Coronel Fap Alfredo Mendivil Duarte       2719  \n",
       "807  Mayor General FAP Armando Revoredo Iglesias Ai...       2677  \n",
       "692                Licenciado Adolfo Lopez Mateos Intl       2581  "
      ]
     },
     "execution_count": 286,
     "metadata": {},
     "output_type": "execute_result"
    }
   ],
   "source": [
    "df3.sort_values('elevation', ascending=False).head(10)"
   ]
  },
  {
   "cell_type": "code",
   "execution_count": null,
   "metadata": {
    "collapsed": true
   },
   "outputs": [],
   "source": []
  }
 ],
 "metadata": {
  "kernelspec": {
   "display_name": "Python 3",
   "language": "python",
   "name": "python3"
  },
  "language_info": {
   "codemirror_mode": {
    "name": "ipython",
    "version": 3
   },
   "file_extension": ".py",
   "mimetype": "text/x-python",
   "name": "python",
   "nbconvert_exporter": "python",
   "pygments_lexer": "ipython3",
   "version": "3.5.1"
  }
 },
 "nbformat": 4,
 "nbformat_minor": 0
}
