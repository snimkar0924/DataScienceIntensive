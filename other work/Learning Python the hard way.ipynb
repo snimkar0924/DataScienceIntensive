{
 "cells": [
  {
   "cell_type": "code",
   "execution_count": 1,
   "metadata": {
    "collapsed": false
   },
   "outputs": [
    {
     "name": "stdout",
     "output_type": "stream",
     "text": [
      "Hello World!\n",
      "Hello again!\n",
      "I like typing this.\n",
      "This is fun.\n",
      "Yay! printing...\n",
      "I'd much rather you 'not'.\n",
      "I said \"Do not touch this\".\n"
     ]
    }
   ],
   "source": [
    "print \"Hello World!\"\n",
    "print \"Hello again!\"\n",
    "print \"I like typing this.\"\n",
    "print \"This is fun.\"\n",
    "print \"Yay! printing...\"\n",
    "print \"I'd much rather you 'not'.\"\n",
    "print 'I said \"Do not touch this\".'"
   ]
  },
  {
   "cell_type": "code",
   "execution_count": 2,
   "metadata": {
    "collapsed": false
   },
   "outputs": [
    {
     "name": "stdout",
     "output_type": "stream",
     "text": [
      "I could have coded like this.\n",
      "This will run.\n"
     ]
    }
   ],
   "source": [
    "# A comment, this is so you can read your program later.\n",
    "# Anything after the # is ignored by python.\n",
    "\n",
    "print \"I could have coded like this.\" # and the comment after is ignored.\n",
    "\n",
    "#You can also use a comment to \"disable\" or comment out a piece of code:\n",
    "#print \"This won't run.\"\n",
    "\n",
    "print \"This will run.\""
   ]
  },
  {
   "cell_type": "code",
   "execution_count": null,
   "metadata": {
    "collapsed": true
   },
   "outputs": [],
   "source": []
  }
 ],
 "metadata": {
  "kernelspec": {
   "display_name": "Python 2",
   "language": "python",
   "name": "python2"
  },
  "language_info": {
   "codemirror_mode": {
    "name": "ipython",
    "version": 2
   },
   "file_extension": ".py",
   "mimetype": "text/x-python",
   "name": "python",
   "nbconvert_exporter": "python",
   "pygments_lexer": "ipython2",
   "version": "2.7.10"
  }
 },
 "nbformat": 4,
 "nbformat_minor": 0
}
