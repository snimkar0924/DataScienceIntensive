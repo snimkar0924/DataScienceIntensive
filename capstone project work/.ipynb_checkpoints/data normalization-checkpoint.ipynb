{
 "cells": [
  {
   "cell_type": "markdown",
   "metadata": {
    "collapsed": true
   },
   "source": [
    "## The purpose of this code snippet is to scale the feature data to get these data ready for use in a regression model for revenue projection."
   ]
  },
  {
   "cell_type": "code",
   "execution_count": 1,
   "metadata": {
    "collapsed": true
   },
   "outputs": [],
   "source": [
    "import numpy as np\n",
    "import pandas as pd"
   ]
  },
  {
   "cell_type": "code",
   "execution_count": 2,
   "metadata": {
    "collapsed": true
   },
   "outputs": [],
   "source": [
    "retailData = pd.read_csv('./data/WA_Retail-SalesMarketing_-ProfitCost.csv')"
   ]
  },
  {
   "cell_type": "code",
   "execution_count": 3,
   "metadata": {
    "collapsed": false
   },
   "outputs": [
    {
     "data": {
      "text/html": [
       "<div>\n",
       "<table border=\"1\" class=\"dataframe\">\n",
       "  <thead>\n",
       "    <tr style=\"text-align: right;\">\n",
       "      <th></th>\n",
       "      <th>Year</th>\n",
       "      <th>Product_line</th>\n",
       "      <th>Product_type</th>\n",
       "      <th>Product</th>\n",
       "      <th>Order_method_type</th>\n",
       "      <th>Retailer_country</th>\n",
       "      <th>Revenue</th>\n",
       "      <th>Planned_revenue</th>\n",
       "      <th>Product_cost</th>\n",
       "      <th>Quantity</th>\n",
       "      <th>Unit_cost</th>\n",
       "      <th>Unit_price</th>\n",
       "      <th>Gross_profit</th>\n",
       "      <th>Unit_sale_price</th>\n",
       "    </tr>\n",
       "  </thead>\n",
       "  <tbody>\n",
       "    <tr>\n",
       "      <th>0</th>\n",
       "      <td>2004</td>\n",
       "      <td>Camping Equipment</td>\n",
       "      <td>Cooking Gear</td>\n",
       "      <td>TrailChef Water Bag</td>\n",
       "      <td>Telephone</td>\n",
       "      <td>United States</td>\n",
       "      <td>437477.15</td>\n",
       "      <td>344917.4931</td>\n",
       "      <td>169471.4212</td>\n",
       "      <td>66385</td>\n",
       "      <td>2.552857</td>\n",
       "      <td>6.59</td>\n",
       "      <td>268005.7288</td>\n",
       "      <td>5.195714</td>\n",
       "    </tr>\n",
       "    <tr>\n",
       "      <th>1</th>\n",
       "      <td>2004</td>\n",
       "      <td>Camping Equipment</td>\n",
       "      <td>Cooking Gear</td>\n",
       "      <td>TrailChef Water Bag</td>\n",
       "      <td>Telephone</td>\n",
       "      <td>Canada</td>\n",
       "      <td>14313.48</td>\n",
       "      <td>13444.6800</td>\n",
       "      <td>6298.8000</td>\n",
       "      <td>2172</td>\n",
       "      <td>2.900000</td>\n",
       "      <td>6.59</td>\n",
       "      <td>8014.6800</td>\n",
       "      <td>6.190000</td>\n",
       "    </tr>\n",
       "  </tbody>\n",
       "</table>\n",
       "</div>"
      ],
      "text/plain": [
       "   Year       Product_line  Product_type              Product  \\\n",
       "0  2004  Camping Equipment  Cooking Gear  TrailChef Water Bag   \n",
       "1  2004  Camping Equipment  Cooking Gear  TrailChef Water Bag   \n",
       "\n",
       "  Order_method_type Retailer_country    Revenue  Planned_revenue  \\\n",
       "0         Telephone    United States  437477.15      344917.4931   \n",
       "1         Telephone           Canada   14313.48       13444.6800   \n",
       "\n",
       "   Product_cost  Quantity  Unit_cost  Unit_price  Gross_profit  \\\n",
       "0   169471.4212     66385   2.552857        6.59   268005.7288   \n",
       "1     6298.8000      2172   2.900000        6.59     8014.6800   \n",
       "\n",
       "   Unit_sale_price  \n",
       "0         5.195714  \n",
       "1         6.190000  "
      ]
     },
     "execution_count": 3,
     "metadata": {},
     "output_type": "execute_result"
    }
   ],
   "source": [
    "retailData.head(2)"
   ]
  },
  {
   "cell_type": "markdown",
   "metadata": {},
   "source": [
    "### select a single product for normalization"
   ]
  },
  {
   "cell_type": "code",
   "execution_count": 29,
   "metadata": {
    "collapsed": false
   },
   "outputs": [],
   "source": [
    "#retailData1 = retailData[(retailData['Product_line']=='Personal Accessories') & (retailData['Product_type']=='Watches') \\\n",
    "#           & (retailData['Product'].str.contains('Mountain Man Analog'))]\n",
    "retailData1 = retailData[(retailData['Retailer_country']=='United States') & \n",
    "                         (retailData['Product_line']=='Personal Accessories') & \n",
    "                         (retailData['Product_type']=='Watches') & \n",
    "                         (retailData['Product']=='Mountain Man Analog')]"
   ]
  },
  {
   "cell_type": "code",
   "execution_count": 30,
   "metadata": {
    "collapsed": false
   },
   "outputs": [
    {
     "data": {
      "text/html": [
       "<div>\n",
       "<table border=\"1\" class=\"dataframe\">\n",
       "  <thead>\n",
       "    <tr style=\"text-align: right;\">\n",
       "      <th></th>\n",
       "      <th>Year</th>\n",
       "      <th>Product_line</th>\n",
       "      <th>Product_type</th>\n",
       "      <th>Product</th>\n",
       "      <th>Order_method_type</th>\n",
       "      <th>Retailer_country</th>\n",
       "      <th>Revenue</th>\n",
       "      <th>Planned_revenue</th>\n",
       "      <th>Product_cost</th>\n",
       "      <th>Quantity</th>\n",
       "      <th>Unit_cost</th>\n",
       "      <th>Unit_price</th>\n",
       "      <th>Gross_profit</th>\n",
       "      <th>Unit_sale_price</th>\n",
       "    </tr>\n",
       "  </thead>\n",
       "  <tbody>\n",
       "    <tr>\n",
       "      <th>2556</th>\n",
       "      <td>2004</td>\n",
       "      <td>Personal Accessories</td>\n",
       "      <td>Watches</td>\n",
       "      <td>Mountain Man Analog</td>\n",
       "      <td>Telephone</td>\n",
       "      <td>United States</td>\n",
       "      <td>157002.56</td>\n",
       "      <td>150781.9867</td>\n",
       "      <td>96360</td>\n",
       "      <td>3212</td>\n",
       "      <td>30</td>\n",
       "      <td>48.88</td>\n",
       "      <td>60642.56</td>\n",
       "      <td>46.943333</td>\n",
       "    </tr>\n",
       "    <tr>\n",
       "      <th>2568</th>\n",
       "      <td>2004</td>\n",
       "      <td>Personal Accessories</td>\n",
       "      <td>Watches</td>\n",
       "      <td>Mountain Man Analog</td>\n",
       "      <td>Sales visit</td>\n",
       "      <td>United States</td>\n",
       "      <td>23902.32</td>\n",
       "      <td>22943.8800</td>\n",
       "      <td>14670</td>\n",
       "      <td>489</td>\n",
       "      <td>30</td>\n",
       "      <td>48.88</td>\n",
       "      <td>9232.32</td>\n",
       "      <td>46.920000</td>\n",
       "    </tr>\n",
       "  </tbody>\n",
       "</table>\n",
       "</div>"
      ],
      "text/plain": [
       "      Year          Product_line Product_type              Product  \\\n",
       "2556  2004  Personal Accessories      Watches  Mountain Man Analog   \n",
       "2568  2004  Personal Accessories      Watches  Mountain Man Analog   \n",
       "\n",
       "     Order_method_type Retailer_country    Revenue  Planned_revenue  \\\n",
       "2556         Telephone    United States  157002.56      150781.9867   \n",
       "2568       Sales visit    United States   23902.32       22943.8800   \n",
       "\n",
       "      Product_cost  Quantity  Unit_cost  Unit_price  Gross_profit  \\\n",
       "2556         96360      3212         30       48.88      60642.56   \n",
       "2568         14670       489         30       48.88       9232.32   \n",
       "\n",
       "      Unit_sale_price  \n",
       "2556        46.943333  \n",
       "2568        46.920000  "
      ]
     },
     "execution_count": 30,
     "metadata": {},
     "output_type": "execute_result"
    }
   ],
   "source": [
    "retailData1.head(2)"
   ]
  },
  {
   "cell_type": "code",
   "execution_count": 31,
   "metadata": {
    "collapsed": false
   },
   "outputs": [
    {
     "data": {
      "text/plain": [
       "17"
      ]
     },
     "execution_count": 31,
     "metadata": {},
     "output_type": "execute_result"
    }
   ],
   "source": [
    "len(retailData1)"
   ]
  },
  {
   "cell_type": "code",
   "execution_count": 6,
   "metadata": {
    "collapsed": true
   },
   "outputs": [],
   "source": [
    "from sklearn import preprocessing"
   ]
  },
  {
   "cell_type": "code",
   "execution_count": 32,
   "metadata": {
    "collapsed": false
   },
   "outputs": [
    {
     "name": "stderr",
     "output_type": "stream",
     "text": [
      "C:\\Anaconda3\\lib\\site-packages\\sklearn\\preprocessing\\data.py:583: DeprecationWarning: Passing 1d arrays as data is deprecated in 0.17 and will raise ValueError in 0.19. Reshape your data either using X.reshape(-1, 1) if your data has a single feature or X.reshape(1, -1) if it contains a single sample.\n",
      "  warnings.warn(DEPRECATION_MSG_1D, DeprecationWarning)\n"
     ]
    }
   ],
   "source": [
    "X1 = retailData1['Revenue']\n",
    "X1.reshape(-1,1)\n",
    "scalerRevenue = scaler = preprocessing.StandardScaler().fit(X1)"
   ]
  },
  {
   "cell_type": "code",
   "execution_count": 33,
   "metadata": {
    "collapsed": false
   },
   "outputs": [
    {
     "data": {
      "text/plain": [
       "StandardScaler(copy=True, with_mean=True, with_std=True)"
      ]
     },
     "execution_count": 33,
     "metadata": {},
     "output_type": "execute_result"
    }
   ],
   "source": [
    "scalerRevenue"
   ]
  },
  {
   "cell_type": "code",
   "execution_count": 34,
   "metadata": {
    "collapsed": false
   },
   "outputs": [
    {
     "data": {
      "text/plain": [
       "139417.26117647055"
      ]
     },
     "execution_count": 34,
     "metadata": {},
     "output_type": "execute_result"
    }
   ],
   "source": [
    "scalerRevenue.mean_"
   ]
  },
  {
   "cell_type": "code",
   "execution_count": 36,
   "metadata": {
    "collapsed": false
   },
   "outputs": [
    {
     "data": {
      "text/plain": [
       "165658.25919044792"
      ]
     },
     "execution_count": 36,
     "metadata": {},
     "output_type": "execute_result"
    }
   ],
   "source": [
    "scalerRevenue.scale_"
   ]
  },
  {
   "cell_type": "code",
   "execution_count": 37,
   "metadata": {
    "collapsed": false
   },
   "outputs": [
    {
     "name": "stderr",
     "output_type": "stream",
     "text": [
      "C:\\Anaconda3\\lib\\site-packages\\sklearn\\preprocessing\\data.py:646: DeprecationWarning: Passing 1d arrays as data is deprecated in 0.17 and will raise ValueError in 0.19. Reshape your data either using X.reshape(-1, 1) if your data has a single feature or X.reshape(1, -1) if it contains a single sample.\n",
      "  warnings.warn(DEPRECATION_MSG_1D, DeprecationWarning)\n"
     ]
    },
    {
     "data": {
      "text/plain": [
       "array([ 0.10615407, -0.69730867, -0.01541282, -0.79202463, -0.79615554,\n",
       "       -0.77402565,  0.55612862, -0.48545181,  1.77946925, -0.8041223 ,\n",
       "       -0.70143959, -0.79025424,  0.06130415,  2.69033576, -0.76605888,\n",
       "        0.31565042,  1.11321186])"
      ]
     },
     "execution_count": 37,
     "metadata": {},
     "output_type": "execute_result"
    }
   ],
   "source": [
    "scalerRevenue.transform(X1)"
   ]
  },
  {
   "cell_type": "code",
   "execution_count": 38,
   "metadata": {
    "collapsed": false
   },
   "outputs": [
    {
     "name": "stderr",
     "output_type": "stream",
     "text": [
      "C:\\Anaconda3\\lib\\site-packages\\sklearn\\utils\\validation.py:420: DataConversionWarning: Data with input dtype int64 was converted to float64 by StandardScaler.\n",
      "  warnings.warn(msg, DataConversionWarning)\n",
      "C:\\Anaconda3\\lib\\site-packages\\sklearn\\preprocessing\\data.py:583: DeprecationWarning: Passing 1d arrays as data is deprecated in 0.17 and will raise ValueError in 0.19. Reshape your data either using X.reshape(-1, 1) if your data has a single feature or X.reshape(1, -1) if it contains a single sample.\n",
      "  warnings.warn(DEPRECATION_MSG_1D, DeprecationWarning)\n"
     ]
    }
   ],
   "source": [
    "X2 = retailData1['Quantity']\n",
    "X2.reshape(-1,1)\n",
    "scalerQuantity = scaler = preprocessing.StandardScaler().fit(X2)"
   ]
  },
  {
   "cell_type": "code",
   "execution_count": 39,
   "metadata": {
    "collapsed": false
   },
   "outputs": [
    {
     "data": {
      "text/plain": [
       "StandardScaler(copy=True, with_mean=True, with_std=True)"
      ]
     },
     "execution_count": 39,
     "metadata": {},
     "output_type": "execute_result"
    }
   ],
   "source": [
    "scalerQuantity"
   ]
  },
  {
   "cell_type": "code",
   "execution_count": 40,
   "metadata": {
    "collapsed": false
   },
   "outputs": [
    {
     "data": {
      "text/plain": [
       "2852.2352941176468"
      ]
     },
     "execution_count": 40,
     "metadata": {},
     "output_type": "execute_result"
    }
   ],
   "source": [
    "scalerQuantity.mean_"
   ]
  },
  {
   "cell_type": "code",
   "execution_count": 41,
   "metadata": {
    "collapsed": false
   },
   "outputs": [
    {
     "data": {
      "text/plain": [
       "3389.0805890026168"
      ]
     },
     "execution_count": 41,
     "metadata": {},
     "output_type": "execute_result"
    }
   ],
   "source": [
    "scalerQuantity.scale_"
   ]
  },
  {
   "cell_type": "code",
   "execution_count": null,
   "metadata": {
    "collapsed": true
   },
   "outputs": [],
   "source": []
  }
 ],
 "metadata": {
  "kernelspec": {
   "display_name": "Python 3",
   "language": "python",
   "name": "python3"
  },
  "language_info": {
   "codemirror_mode": {
    "name": "ipython",
    "version": 3
   },
   "file_extension": ".py",
   "mimetype": "text/x-python",
   "name": "python",
   "nbconvert_exporter": "python",
   "pygments_lexer": "ipython3",
   "version": "3.5.1"
  }
 },
 "nbformat": 4,
 "nbformat_minor": 0
}
