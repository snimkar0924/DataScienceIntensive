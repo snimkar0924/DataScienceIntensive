{
 "cells": [
  {
   "cell_type": "markdown",
   "metadata": {
    "collapsed": true
   },
   "source": [
    "## The purpose of this code snippet is to scale the feature data to get these data ready for use in a regression model for revenue projection."
   ]
  },
  {
   "cell_type": "code",
   "execution_count": 1,
   "metadata": {
    "collapsed": true
   },
   "outputs": [],
   "source": [
    "import numpy as np\n",
    "import pandas as pd"
   ]
  },
  {
   "cell_type": "code",
   "execution_count": 2,
   "metadata": {
    "collapsed": true
   },
   "outputs": [],
   "source": [
    "retailData = pd.read_csv('./data/WA_Retail-SalesMarketing_-ProfitCost.csv')"
   ]
  },
  {
   "cell_type": "code",
   "execution_count": 3,
   "metadata": {
    "collapsed": false
   },
   "outputs": [
    {
     "data": {
      "text/html": [
       "<div>\n",
       "<table border=\"1\" class=\"dataframe\">\n",
       "  <thead>\n",
       "    <tr style=\"text-align: right;\">\n",
       "      <th></th>\n",
       "      <th>Year</th>\n",
       "      <th>Product_line</th>\n",
       "      <th>Product_type</th>\n",
       "      <th>Product</th>\n",
       "      <th>Order_method_type</th>\n",
       "      <th>Retailer_country</th>\n",
       "      <th>Revenue</th>\n",
       "      <th>Planned_revenue</th>\n",
       "      <th>Product_cost</th>\n",
       "      <th>Quantity</th>\n",
       "      <th>Unit_cost</th>\n",
       "      <th>Unit_price</th>\n",
       "      <th>Gross_profit</th>\n",
       "      <th>Unit_sale_price</th>\n",
       "    </tr>\n",
       "  </thead>\n",
       "  <tbody>\n",
       "    <tr>\n",
       "      <th>0</th>\n",
       "      <td>2004</td>\n",
       "      <td>Camping Equipment</td>\n",
       "      <td>Cooking Gear</td>\n",
       "      <td>TrailChef Water Bag</td>\n",
       "      <td>Telephone</td>\n",
       "      <td>United States</td>\n",
       "      <td>437477.15</td>\n",
       "      <td>344917.4931</td>\n",
       "      <td>169471.4212</td>\n",
       "      <td>66385</td>\n",
       "      <td>2.552857</td>\n",
       "      <td>6.59</td>\n",
       "      <td>268005.7288</td>\n",
       "      <td>5.195714</td>\n",
       "    </tr>\n",
       "    <tr>\n",
       "      <th>1</th>\n",
       "      <td>2004</td>\n",
       "      <td>Camping Equipment</td>\n",
       "      <td>Cooking Gear</td>\n",
       "      <td>TrailChef Water Bag</td>\n",
       "      <td>Telephone</td>\n",
       "      <td>Canada</td>\n",
       "      <td>14313.48</td>\n",
       "      <td>13444.6800</td>\n",
       "      <td>6298.8000</td>\n",
       "      <td>2172</td>\n",
       "      <td>2.900000</td>\n",
       "      <td>6.59</td>\n",
       "      <td>8014.6800</td>\n",
       "      <td>6.190000</td>\n",
       "    </tr>\n",
       "  </tbody>\n",
       "</table>\n",
       "</div>"
      ],
      "text/plain": [
       "   Year       Product_line  Product_type              Product  \\\n",
       "0  2004  Camping Equipment  Cooking Gear  TrailChef Water Bag   \n",
       "1  2004  Camping Equipment  Cooking Gear  TrailChef Water Bag   \n",
       "\n",
       "  Order_method_type Retailer_country    Revenue  Planned_revenue  \\\n",
       "0         Telephone    United States  437477.15      344917.4931   \n",
       "1         Telephone           Canada   14313.48       13444.6800   \n",
       "\n",
       "   Product_cost  Quantity  Unit_cost  Unit_price  Gross_profit  \\\n",
       "0   169471.4212     66385   2.552857        6.59   268005.7288   \n",
       "1     6298.8000      2172   2.900000        6.59     8014.6800   \n",
       "\n",
       "   Unit_sale_price  \n",
       "0         5.195714  \n",
       "1         6.190000  "
      ]
     },
     "execution_count": 3,
     "metadata": {},
     "output_type": "execute_result"
    }
   ],
   "source": [
    "retailData.head(2)"
   ]
  },
  {
   "cell_type": "markdown",
   "metadata": {},
   "source": [
    "### select a single product for normalization"
   ]
  },
  {
   "cell_type": "code",
   "execution_count": 4,
   "metadata": {
    "collapsed": true
   },
   "outputs": [],
   "source": [
    "retailData1 = retailData[(retailData['Product_line']=='Personal Accessories') & (retailData['Product_type']=='Watches') \\\n",
    "           & (retailData['Product'].str.contains('Mountain Man Analog'))]"
   ]
  },
  {
   "cell_type": "code",
   "execution_count": 5,
   "metadata": {
    "collapsed": false
   },
   "outputs": [
    {
     "data": {
      "text/html": [
       "<div>\n",
       "<table border=\"1\" class=\"dataframe\">\n",
       "  <thead>\n",
       "    <tr style=\"text-align: right;\">\n",
       "      <th></th>\n",
       "      <th>Year</th>\n",
       "      <th>Product_line</th>\n",
       "      <th>Product_type</th>\n",
       "      <th>Product</th>\n",
       "      <th>Order_method_type</th>\n",
       "      <th>Retailer_country</th>\n",
       "      <th>Revenue</th>\n",
       "      <th>Planned_revenue</th>\n",
       "      <th>Product_cost</th>\n",
       "      <th>Quantity</th>\n",
       "      <th>Unit_cost</th>\n",
       "      <th>Unit_price</th>\n",
       "      <th>Gross_profit</th>\n",
       "      <th>Unit_sale_price</th>\n",
       "    </tr>\n",
       "  </thead>\n",
       "  <tbody>\n",
       "    <tr>\n",
       "      <th>2556</th>\n",
       "      <td>2004</td>\n",
       "      <td>Personal Accessories</td>\n",
       "      <td>Watches</td>\n",
       "      <td>Mountain Man Analog</td>\n",
       "      <td>Telephone</td>\n",
       "      <td>United States</td>\n",
       "      <td>157002.56</td>\n",
       "      <td>150781.98670</td>\n",
       "      <td>96360</td>\n",
       "      <td>3212</td>\n",
       "      <td>30</td>\n",
       "      <td>48.88</td>\n",
       "      <td>60642.56</td>\n",
       "      <td>46.943333</td>\n",
       "    </tr>\n",
       "    <tr>\n",
       "      <th>2557</th>\n",
       "      <td>2004</td>\n",
       "      <td>Personal Accessories</td>\n",
       "      <td>Watches</td>\n",
       "      <td>Mountain Man Analog</td>\n",
       "      <td>Telephone</td>\n",
       "      <td>Mexico</td>\n",
       "      <td>17254.64</td>\n",
       "      <td>16620.41667</td>\n",
       "      <td>10590</td>\n",
       "      <td>353</td>\n",
       "      <td>30</td>\n",
       "      <td>48.88</td>\n",
       "      <td>6664.64</td>\n",
       "      <td>47.083333</td>\n",
       "    </tr>\n",
       "  </tbody>\n",
       "</table>\n",
       "</div>"
      ],
      "text/plain": [
       "      Year          Product_line Product_type              Product  \\\n",
       "2556  2004  Personal Accessories      Watches  Mountain Man Analog   \n",
       "2557  2004  Personal Accessories      Watches  Mountain Man Analog   \n",
       "\n",
       "     Order_method_type Retailer_country    Revenue  Planned_revenue  \\\n",
       "2556         Telephone    United States  157002.56     150781.98670   \n",
       "2557         Telephone           Mexico   17254.64      16620.41667   \n",
       "\n",
       "      Product_cost  Quantity  Unit_cost  Unit_price  Gross_profit  \\\n",
       "2556         96360      3212         30       48.88      60642.56   \n",
       "2557         10590       353         30       48.88       6664.64   \n",
       "\n",
       "      Unit_sale_price  \n",
       "2556        46.943333  \n",
       "2557        47.083333  "
      ]
     },
     "execution_count": 5,
     "metadata": {},
     "output_type": "execute_result"
    }
   ],
   "source": [
    "retailData1.head(2)"
   ]
  },
  {
   "cell_type": "code",
   "execution_count": null,
   "metadata": {
    "collapsed": true
   },
   "outputs": [],
   "source": []
  },
  {
   "cell_type": "code",
   "execution_count": null,
   "metadata": {
    "collapsed": true
   },
   "outputs": [],
   "source": []
  },
  {
   "cell_type": "code",
   "execution_count": null,
   "metadata": {
    "collapsed": true
   },
   "outputs": [],
   "source": []
  },
  {
   "cell_type": "code",
   "execution_count": null,
   "metadata": {
    "collapsed": true
   },
   "outputs": [],
   "source": []
  },
  {
   "cell_type": "code",
   "execution_count": null,
   "metadata": {
    "collapsed": true
   },
   "outputs": [],
   "source": []
  }
 ],
 "metadata": {
  "kernelspec": {
   "display_name": "Python 3",
   "language": "python",
   "name": "python3"
  },
  "language_info": {
   "codemirror_mode": {
    "name": "ipython",
    "version": 3
   },
   "file_extension": ".py",
   "mimetype": "text/x-python",
   "name": "python",
   "nbconvert_exporter": "python",
   "pygments_lexer": "ipython3",
   "version": "3.5.1"
  }
 },
 "nbformat": 4,
 "nbformat_minor": 0
}
